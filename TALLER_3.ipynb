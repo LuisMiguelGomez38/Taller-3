{
  "nbformat": 4,
  "nbformat_minor": 0,
  "metadata": {
    "colab": {
      "provenance": [],
      "toc_visible": true,
      "authorship_tag": "ABX9TyMbx2mZ9d/prcia392lAKoT",
      "include_colab_link": true
    },
    "kernelspec": {
      "name": "python3",
      "display_name": "Python 3"
    },
    "language_info": {
      "name": "python"
    }
  },
  "cells": [
    {
      "cell_type": "markdown",
      "metadata": {
        "id": "view-in-github",
        "colab_type": "text"
      },
      "source": [
        "<a href=\"https://colab.research.google.com/github/LuisMiguelGomez38/Taller-3/blob/main/TALLER_3.ipynb\" target=\"_parent\"><img src=\"https://colab.research.google.com/assets/colab-badge.svg\" alt=\"Open In Colab\"/></a>"
      ]
    },
    {
      "cell_type": "markdown",
      "source": [
        "# Taller 3 Estructuras Selectivas\n",
        "\n",
        "Luisa Fernanda Argumedo Polo\n",
        "\n",
        "Luis Miguel Gomez Martinez\n",
        "\n"
      ],
      "metadata": {
        "id": "i0Ju2z8WTZ8u"
      }
    },
    {
      "cell_type": "markdown",
      "source": [
        "Algoritmo\n",
        "\n",
        "1. Inicio\n",
        "\n",
        "2. Solicitar al usuario:\n",
        "consumo en kWh\n",
        "costo de cada kWh\n",
        "estrato socioeconómico del usuario (1-6)\n",
        "altitud de la zona donde vive el usuario\n",
        "\n",
        "3. Definir consumo_basico:\n",
        "Si la altitud de la zona > 1000 metros, consumo_basico = 130 kWh\n",
        "Si la altitud de la zona ≤ 1000 metros, consumo_basico = 173 kWh\n",
        "\n",
        "4. Calcular subtotal básico:\n",
        "Subtotal básico = consumo_basico * costo_de_kwh\n",
        "Si el consumo es menor o igual al consumo básico: Subtotal básico = consumo * costo_de_kwh\n",
        "\n",
        "5. Calcular subtotal adicional:\n",
        "Si el consumo excede el consumo básico, calcular el costo adicional: Subtotal adicional = (consumo - consumo_basico) * costo_de_kwh\n",
        "Subtotal total = subtotal_basico + subtotal_adicional\n",
        "\n",
        "6. Aplicar subsidio o contribución según el estrato socioeconómico del usuario:\n",
        "Estrato 1: Si el consumo ≤ consumo_basico, aplicar un subsidio del 60% sobre el subtotal básico.\n",
        "Estrato 2: Si el consumo ≤ consumo_basico, aplicar un subsidio del 50% sobre el subtotal básico.\n",
        "Estrato 3: Si el consumo ≤ consumo_basico, aplicar un subsidio del 15% sobre el subtotal básico.\n",
        "Estrato 4: Sin subsidio ni contribución.\n",
        "Estrato 5 y 6, o si es un usuario comercial: Aplicar una contribución del 20% sobre todo el subtotal.\n",
        "\n",
        "7. Cálculo del monto final:\n",
        "Calcular monto_final restando el subsidio aplicado al subtotal básico o sumando la contribución sobre todo el subtotal según el estrato: monto_final = subtotal - subsidio + contribución\n",
        "\n",
        "8. Mostrar monto_final:\n",
        "Mostrar monto_final, que es el valor total de la factura.\n",
        "\n",
        "9. Fin\n"
      ],
      "metadata": {
        "id": "bP8i1IjWVdGv"
      }
    },
    {
      "cell_type": "markdown",
      "source": [
        "Pseudocodigo\n",
        "\n",
        "program Calcular_factura_de_Energía_Eléctrica\n",
        "\n",
        "start\n",
        "// se declaran las variables\n",
        "Declare float altitude\n",
        "Declare integer estrato\n",
        "Declare float subtotal_total\n",
        "Declare float subsidio\n",
        "Declare float consumo\n",
        "Declare float costo_kwh\n",
        "Declare float subtotal_basico\n",
        "Declare float subtotal_adicional\n",
        "Declare float contribucion\n",
        "Declare float monto_final\n",
        "Declare float consumo_basico\n",
        "\n",
        "// se obtienen los datos del usuario\n",
        "Display \"Ingrese el consumo en kWh\"\n",
        "input consumo\n",
        "\n",
        "Display \"Ingrese el costo del kWh \"\n",
        "input costo_kwh\n",
        "\n",
        "Display \"Ingrese el estrato socioeconómico en un rango de (1-6)\"\n",
        "input estrato\n",
        "\n",
        "Display \"Ingrese la altitud de la zona en metros sobre el nivel del mar)\"\n",
        "input altitud\n",
        "\n",
        "// se determina el consumo basico\n",
        "if altitud > 1000 then\n",
        "    set consumo_basico = 130\n",
        "else\n",
        "    set consumo_basico = 173\n",
        "end if\n",
        "\n",
        "// se calcula el subtotal\n",
        "if consumo <= consumo_basico then\n",
        "    set subtotal_basico = consumo * costo_kwh\n",
        "    set subtotal_adicional = 0\n",
        "else\n",
        "    set subtotal_basico = consumo_basico * costo_kwh\n",
        "    set subtotal_adicional = (consumo - consumo_basico) * costo_kwh\n",
        "end if\n",
        "set subtotal_total = subtotal_basico + subtotal_adicional\n",
        "\n",
        "// APLICAR SUBSIDIO O CONTRIBUCIÓN SEGÚN EL ESTRATO\n",
        "\n",
        "if estrato == 1 and consumo <= consumo_basico then\n",
        "    set subsidio = subtotal_total * 0.60\n",
        "elseif estrato == 2 and consumo <= consumo_basico then\n",
        "    set subsidio = subtotal_total * 0.50\n",
        "elseif estrato == 3 and consumo <= consumo_basico then\n",
        "    set subsidio = subtotal_total * 0.15\n",
        "elseif estrato == 5 or estrato == 6 then\n",
        "    set contribucion = subtotal_total * 0.20\n",
        "end if\n",
        "\n",
        "// CALCULAR EL TOTAL A PAGAR\n",
        "set monto_final = subtotal_total - subsidio + contribucion\n",
        "\n",
        "// MOSTRAR EL RESULTADO\n",
        "Display \"El total es: \", monto_final, \"COP\"\n",
        "\n",
        "End\n",
        "\n"
      ],
      "metadata": {
        "id": "3wJRrcXjVy6u"
      }
    },
    {
      "cell_type": "code",
      "source": [
        "# Programa para calcular la factura de energía eléctrica\n",
        "\n",
        "# Se declaran las variables\n",
        "altitud = 0.0\n",
        "estrato = 0\n",
        "subtotal_total = 0.0\n",
        "subsidio = 0.0\n",
        "consumo = 0.0\n",
        "costo_kwh = 0.0\n",
        "subtotal_basico = 0.0\n",
        "subtotal_adicional = 0.0\n",
        "contribucion = 0.0\n",
        "monto_final = 0.0\n",
        "consumo_basico = 0.0\n",
        "\n",
        "# Se obtienen los datos del usuario\n",
        "consumo = float(input(\"Ingrese el consumo en kWh: \"))\n",
        "costo_kwh = float(input(\"Ingrese el costo del kWh: \"))\n",
        "estrato = int(input(\"Ingrese el estrato socioeconómico en un rango de (1-6): \"))\n",
        "altitud = float(input(\"Ingrese la altitud de la zona en metros sobre el nivel del mar: \"))\n",
        "\n",
        "# Se determina el consumo básico\n",
        "if altitud > 1000:\n",
        "    consumo_basico = 130\n",
        "else:\n",
        "    consumo_basico = 173\n",
        "\n",
        "# Se calcula el subtotal\n",
        "if consumo <= consumo_basico:\n",
        "    subtotal_basico = consumo * costo_kwh\n",
        "    subtotal_adicional = 0\n",
        "else:\n",
        "    subtotal_basico = consumo_basico * costo_kwh\n",
        "    subtotal_adicional = (consumo - consumo_basico) * costo_kwh\n",
        "\n",
        "subtotal_total = subtotal_basico + subtotal_adicional\n",
        "\n",
        "# Aplicar subsidio o contribución según el estrato\n",
        "if estrato == 1 and consumo <= consumo_basico:\n",
        "    subsidio = subtotal_basico * 0.60\n",
        "elif estrato == 2 and consumo <= consumo_basico:\n",
        "    subsidio = subtotal_basico * 0.50\n",
        "elif estrato == 3 and consumo <= consumo_basico:\n",
        "    subsidio = subtotal_basico * 0.15\n",
        "elif estrato == 5 or estrato == 6:\n",
        "    contribucion = subtotal_total * 0.20\n",
        "\n",
        "# Calcular el total a pagar\n",
        "monto_final = subtotal_total - subsidio + contribucion\n",
        "\n",
        "# Mostrar el resultado\n",
        "print(\"El total es:\", monto_final, \"COP\")\n"
      ],
      "metadata": {
        "colab": {
          "base_uri": "https://localhost:8080/"
        },
        "id": "s9HY7P0QWBhp",
        "outputId": "324cad31-58c1-4a40-b01e-c7254a06bbee"
      },
      "execution_count": 1,
      "outputs": [
        {
          "output_type": "stream",
          "name": "stdout",
          "text": [
            "Ingrese el consumo en kWh: 100\n",
            "Ingrese el costo del kWh: 500\n",
            "Ingrese el estrato socioeconómico en un rango de (1-6): 1\n",
            "Ingrese la altitud de la zona en metros sobre el nivel del mar: 950\n",
            "El total es: 20000.0 COP\n"
          ]
        }
      ]
    }
  ]
}